{
 "cells": [
  {
   "cell_type": "code",
   "execution_count": 1,
   "id": "8314cfb3-e484-4a56-bf73-58f35d992a34",
   "metadata": {},
   "outputs": [
    {
     "name": "stdout",
     "output_type": "stream",
     "text": [
      "Collecting apyori\n",
      "  Using cached apyori-1.1.2.tar.gz (8.6 kB)\n",
      "  Preparing metadata (setup.py): started\n",
      "  Preparing metadata (setup.py): finished with status 'done'\n",
      "Building wheels for collected packages: apyori\n",
      "  Building wheel for apyori (setup.py): started\n",
      "  Building wheel for apyori (setup.py): finished with status 'done'\n",
      "  Created wheel for apyori: filename=apyori-1.1.2-py3-none-any.whl size=5976 sha256=1add4cfecf71a078b46e26ce6beccc29d41d0f310017f2ea2c53ce36f763557e\n",
      "  Stored in directory: c:\\users\\riyanshika\\appdata\\local\\pip\\cache\\wheels\\7f\\49\\e3\\42c73b19a264de37129fadaa0c52f26cf50e87de08fb9804af\n",
      "Successfully built apyori\n",
      "Installing collected packages: apyori\n",
      "Successfully installed apyori-1.1.2\n",
      "Note: you may need to restart the kernel to use updated packages.\n"
     ]
    }
   ],
   "source": [
    "pip install apyori"
   ]
  },
  {
   "cell_type": "code",
   "execution_count": 7,
   "id": "243c3816-c4d7-456d-8f7b-22c6b05f7509",
   "metadata": {},
   "outputs": [
    {
     "name": "stdout",
     "output_type": "stream",
     "text": [
      "Collecting apriori\n",
      "  Using cached apriori-1.0.0.tar.gz (1.8 kB)\n",
      "  Preparing metadata (setup.py): started\n",
      "  Preparing metadata (setup.py): finished with status 'done'\n",
      "Building wheels for collected packages: apriori\n",
      "  Building wheel for apriori (setup.py): started\n",
      "  Building wheel for apriori (setup.py): finished with status 'done'\n",
      "  Created wheel for apriori: filename=apriori-1.0.0-py3-none-any.whl size=2463 sha256=e8e49002b5aa69b5c61af3355307d281595e8c7f2231c17cc317586a29c6ea91\n",
      "  Stored in directory: c:\\users\\riyanshika\\appdata\\local\\pip\\cache\\wheels\\42\\42\\e7\\ec4c18deb50ea29505d96a153528e9b3631dee38d34a1db60b\n",
      "Successfully built apriori\n",
      "Installing collected packages: apriori\n",
      "Successfully installed apriori-1.0.0\n",
      "Note: you may need to restart the kernel to use updated packages.\n"
     ]
    }
   ],
   "source": [
    "pip install apriori"
   ]
  },
  {
   "cell_type": "code",
   "execution_count": 7,
   "id": "1fa6bfb8-27e2-4ee7-8ce7-a573ad4fcb1f",
   "metadata": {},
   "outputs": [
    {
     "name": "stderr",
     "output_type": "stream",
     "text": [
      "<>:8: SyntaxWarning: invalid escape sequence '\\E'\n",
      "<>:8: SyntaxWarning: invalid escape sequence '\\E'\n",
      "C:\\Users\\Riyanshika\\AppData\\Local\\Temp\\ipykernel_15744\\2728501801.py:8: SyntaxWarning: invalid escape sequence '\\E'\n",
      "  df = pd.read_excel(\"G:\\ExcelR\\Assignments\\downloaded files\\Association Rules\\Association Rules\\\\Online retail.xlsx\",header = None)\n"
     ]
    }
   ],
   "source": [
    "# Import necessary libraries\n",
    "import pandas as pd\n",
    "#from mlxtend.preprocessing import TransactionEncoder\n",
    "#from mlxtend.frequent_patterns import apriori, association_rule\n",
    "\n",
    "# Data Preprocessing\n",
    "# Load the dataset\n",
    "df = pd.read_excel(\"G:\\ExcelR\\Assignments\\downloaded files\\Association Rules\\Association Rules\\\\Online retail.xlsx\",header = None)\n",
    "df\n",
    "\n",
    "# Handle missing values\n",
    "df.dropna(inplace=True)\n",
    "# Remove duplicates if any\n",
    "df.drop_duplicates(inplace=True)"
   ]
  },
  {
   "cell_type": "code",
   "execution_count": 9,
   "id": "6029e0e4-3d4e-46e7-b6e0-8293939d15ca",
   "metadata": {},
   "outputs": [
    {
     "ename": "IndexError",
     "evalue": "index 5176 is out of bounds for axis 0 with size 5176",
     "output_type": "error",
     "traceback": [
      "\u001b[1;31m---------------------------------------------------------------------------\u001b[0m",
      "\u001b[1;31mIndexError\u001b[0m                                Traceback (most recent call last)",
      "Cell \u001b[1;32mIn[9], line 4\u001b[0m\n\u001b[0;32m      2\u001b[0m trans \u001b[38;5;241m=\u001b[39m []\n\u001b[0;32m      3\u001b[0m \u001b[38;5;28;01mfor\u001b[39;00m i \u001b[38;5;129;01min\u001b[39;00m \u001b[38;5;28mrange\u001b[39m(\u001b[38;5;241m0\u001b[39m, \u001b[38;5;241m7501\u001b[39m):\n\u001b[1;32m----> 4\u001b[0m   trans\u001b[38;5;241m.\u001b[39mappend([\u001b[38;5;28mstr\u001b[39m(df\u001b[38;5;241m.\u001b[39mvalues[i,j]) \u001b[38;5;28;01mfor\u001b[39;00m j \u001b[38;5;129;01min\u001b[39;00m \u001b[38;5;28mrange\u001b[39m(\u001b[38;5;241m0\u001b[39m, \u001b[38;5;241m1\u001b[39m)])\n\u001b[0;32m      5\u001b[0m trans\n",
      "\u001b[1;31mIndexError\u001b[0m: index 5176 is out of bounds for axis 0 with size 5176"
     ]
    }
   ],
   "source": [
    "#creating the list to get all those dataset values and storing in trans\n",
    "trans = []\n",
    "for i in range(0, 7501):\n",
    "  trans.append([str(df.values[i,j]) for j in range(0, 1)])\n",
    "trans"
   ]
  },
  {
   "cell_type": "code",
   "execution_count": 11,
   "id": "8986e98a-3732-452e-b4e5-6d68b7081756",
   "metadata": {},
   "outputs": [],
   "source": [
    "from apyori import apriori\n",
    "rules = apriori(transactions = trans,\n",
    "                min_support = 0.005, \n",
    "                min_confidence = 0.2, \n",
    "                min_lift = 3, \n",
    "                min_length = 2, \n",
    "                max_length = 2)"
   ]
  },
  {
   "cell_type": "code",
   "execution_count": 13,
   "id": "5816d13b-2b3a-417a-b2cc-ec72e75d46bd",
   "metadata": {},
   "outputs": [],
   "source": [
    "rules = apriori(transactions = trans, \n",
    "                min_support = 0.00001, \n",
    "                min_confidence = 0.0001, \n",
    "                min_lift = 1, \n",
    "                min_length = 2, \n",
    "                max_length = 5)"
   ]
  },
  {
   "cell_type": "code",
   "execution_count": 15,
   "id": "79ed643e-dc53-42fc-867f-edd26b6976fb",
   "metadata": {},
   "outputs": [
    {
     "data": {
      "text/plain": [
       "<generator object apriori at 0x0000025C93B42E30>"
      ]
     },
     "execution_count": 15,
     "metadata": {},
     "output_type": "execute_result"
    }
   ],
   "source": [
    "rules"
   ]
  },
  {
   "cell_type": "code",
   "execution_count": null,
   "id": "023c04c9-a012-44f2-9f61-abe3a9eaa09a",
   "metadata": {},
   "outputs": [],
   "source": [
    "results = list(rules)\n",
    "len(results)"
   ]
  },
  {
   "cell_type": "code",
   "execution_count": null,
   "id": "08739dd4-4b3a-469c-85b9-cc2fac129881",
   "metadata": {},
   "outputs": [],
   "source": [
    "results[0]"
   ]
  },
  {
   "cell_type": "code",
   "execution_count": null,
   "id": "f37ecf13-6d9e-4812-b0a5-84036077a395",
   "metadata": {},
   "outputs": [],
   "source": [
    "#Getting all the different combination of items\n",
    "print(\"Support\",results[0][1])\n",
    "print(\"Base item\",results[0][2][0][0])\n",
    "print(\"add item\",results[0][2][0][1])\n",
    "print(\"confidence\",results[0][2][0][2])\n",
    "print(\"lift\",results[0][2][0][3])"
   ]
  },
  {
   "cell_type": "code",
   "execution_count": null,
   "id": "f42648ee-5558-4bed-9fc8-f25aaabd113b",
   "metadata": {},
   "outputs": [],
   "source": [
    "#creating list and appending values using for loop\n",
    "a=[]\n",
    "b=[]\n",
    "c=[]\n",
    "d=[]\n",
    "e=[]\n",
    "\n",
    "\n",
    "for i in range(0,9):\n",
    "    a.append(results[i][2][0][0])\n",
    "    b.append(results[i][2][0][1])\n",
    "    c.append(results[i][1])\n",
    "    d.append(results[i][2][0][2])\n",
    "    e.append(results[i][2][0][3])\n"
   ]
  },
  {
   "cell_type": "code",
   "execution_count": 44,
   "id": "1cbbd250-750b-4a39-8c99-07115fa9a1c9",
   "metadata": {},
   "outputs": [],
   "source": [
    "a = pd.DataFrame(a)\n",
    "b = pd.DataFrame(b)\n",
    "c = pd.DataFrame(c)\n",
    "d = pd.DataFrame(d)\n",
    "e = pd.DataFrame(e)\n",
    "df_new = pd.concat([a,b,c,d,e],axis=1)\n"
   ]
  },
  {
   "cell_type": "code",
   "execution_count": 46,
   "id": "d4154403-6c98-496a-8118-cbb297dc8712",
   "metadata": {},
   "outputs": [
    {
     "data": {
      "text/html": [
       "<div>\n",
       "<style scoped>\n",
       "    .dataframe tbody tr th:only-of-type {\n",
       "        vertical-align: middle;\n",
       "    }\n",
       "\n",
       "    .dataframe tbody tr th {\n",
       "        vertical-align: top;\n",
       "    }\n",
       "\n",
       "    .dataframe thead th {\n",
       "        text-align: right;\n",
       "    }\n",
       "</style>\n",
       "<table border=\"1\" class=\"dataframe\">\n",
       "  <thead>\n",
       "    <tr style=\"text-align: right;\">\n",
       "      <th></th>\n",
       "      <th>Base item</th>\n",
       "      <th>Add item</th>\n",
       "      <th>support</th>\n",
       "      <th>confidence</th>\n",
       "    </tr>\n",
       "  </thead>\n",
       "  <tbody>\n",
       "    <tr>\n",
       "      <th>0</th>\n",
       "      <td>almonds</td>\n",
       "      <td>0.000267</td>\n",
       "      <td>0.000267</td>\n",
       "      <td>1.0</td>\n",
       "    </tr>\n",
       "    <tr>\n",
       "      <th>1</th>\n",
       "      <td>almonds,cake,low fat yogurt</td>\n",
       "      <td>0.000133</td>\n",
       "      <td>0.000133</td>\n",
       "      <td>1.0</td>\n",
       "    </tr>\n",
       "    <tr>\n",
       "      <th>2</th>\n",
       "      <td>almonds,cookies</td>\n",
       "      <td>0.000133</td>\n",
       "      <td>0.000133</td>\n",
       "      <td>1.0</td>\n",
       "    </tr>\n",
       "    <tr>\n",
       "      <th>3</th>\n",
       "      <td>almonds,eggs</td>\n",
       "      <td>0.000133</td>\n",
       "      <td>0.000133</td>\n",
       "      <td>1.0</td>\n",
       "    </tr>\n",
       "    <tr>\n",
       "      <th>4</th>\n",
       "      <td>almonds,eggs,cookies</td>\n",
       "      <td>0.000133</td>\n",
       "      <td>0.000133</td>\n",
       "      <td>1.0</td>\n",
       "    </tr>\n",
       "    <tr>\n",
       "      <th>5</th>\n",
       "      <td>almonds,eggs,cooking oil,french fries,green tea</td>\n",
       "      <td>0.000133</td>\n",
       "      <td>0.000133</td>\n",
       "      <td>1.0</td>\n",
       "    </tr>\n",
       "    <tr>\n",
       "      <th>6</th>\n",
       "      <td>almonds,eggs,yogurt cake</td>\n",
       "      <td>0.000133</td>\n",
       "      <td>0.000133</td>\n",
       "      <td>1.0</td>\n",
       "    </tr>\n",
       "    <tr>\n",
       "      <th>7</th>\n",
       "      <td>almonds,french wine</td>\n",
       "      <td>0.000133</td>\n",
       "      <td>0.000133</td>\n",
       "      <td>1.0</td>\n",
       "    </tr>\n",
       "    <tr>\n",
       "      <th>8</th>\n",
       "      <td>almonds,french wine,green tea,french fries,esc...</td>\n",
       "      <td>0.000133</td>\n",
       "      <td>0.000133</td>\n",
       "      <td>1.0</td>\n",
       "    </tr>\n",
       "  </tbody>\n",
       "</table>\n",
       "</div>"
      ],
      "text/plain": [
       "                                           Base item  Add item   support  \\\n",
       "0                                            almonds  0.000267  0.000267   \n",
       "1                        almonds,cake,low fat yogurt  0.000133  0.000133   \n",
       "2                                    almonds,cookies  0.000133  0.000133   \n",
       "3                                       almonds,eggs  0.000133  0.000133   \n",
       "4                               almonds,eggs,cookies  0.000133  0.000133   \n",
       "5    almonds,eggs,cooking oil,french fries,green tea  0.000133  0.000133   \n",
       "6                           almonds,eggs,yogurt cake  0.000133  0.000133   \n",
       "7                                almonds,french wine  0.000133  0.000133   \n",
       "8  almonds,french wine,green tea,french fries,esc...  0.000133  0.000133   \n",
       "\n",
       "   confidence  \n",
       "0         1.0  \n",
       "1         1.0  \n",
       "2         1.0  \n",
       "3         1.0  \n",
       "4         1.0  \n",
       "5         1.0  \n",
       "6         1.0  \n",
       "7         1.0  \n",
       "8         1.0  "
      ]
     },
     "execution_count": 46,
     "metadata": {},
     "output_type": "execute_result"
    }
   ],
   "source": [
    "df_new.columns = [\"Base item\",'Add item','support','confidence']\n",
    "df_new"
   ]
  },
  {
   "cell_type": "code",
   "execution_count": null,
   "id": "d92a1061-4efb-4568-b808-126b1c089065",
   "metadata": {},
   "outputs": [],
   "source": []
  }
 ],
 "metadata": {
  "kernelspec": {
   "display_name": "Python 3 (ipykernel)",
   "language": "python",
   "name": "python3"
  },
  "language_info": {
   "codemirror_mode": {
    "name": "ipython",
    "version": 3
   },
   "file_extension": ".py",
   "mimetype": "text/x-python",
   "name": "python",
   "nbconvert_exporter": "python",
   "pygments_lexer": "ipython3",
   "version": "3.12.4"
  }
 },
 "nbformat": 4,
 "nbformat_minor": 5
}
